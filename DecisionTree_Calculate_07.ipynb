{
 "cells": [
  {
   "cell_type": "code",
   "execution_count": 1,
   "id": "3c533f20",
   "metadata": {},
   "outputs": [],
   "source": [
    "import math"
   ]
  },
  {
   "cell_type": "code",
   "execution_count": 2,
   "id": "c9f0ee2d",
   "metadata": {},
   "outputs": [],
   "source": [
    "n_A = 4\n",
    "n_B = 5\n",
    "total = n_A + n_B"
   ]
  },
  {
   "cell_type": "code",
   "execution_count": 3,
   "id": "a88e5573",
   "metadata": {},
   "outputs": [
    {
     "name": "stdout",
     "output_type": "stream",
     "text": [
      "proportion of A:  0.4444444444444444\n",
      "proportion of B:  0.5555555555555556\n"
     ]
    }
   ],
   "source": [
    "# let's calculate the propertions\n",
    "p_A = n_A / total\n",
    "p_B = n_B / total\n",
    "print(\"proportion of A: \",p_A)\n",
    "print(\"proportion of B: \",p_B)\n",
    "\n"
   ]
  },
  {
   "cell_type": "code",
   "execution_count": 4,
   "id": "75d2b729",
   "metadata": {},
   "outputs": [
    {
     "name": "stdout",
     "output_type": "stream",
     "text": [
      "Entropy:  0.8465148144755382\n"
     ]
    }
   ],
   "source": [
    "#Entropy Calculate\n",
    "# Entropy is a measure of uncertainty\n",
    "entropy = -p_A * math.log2(p_A) -p_B * math.log(p_B)\n",
    "print(\"Entropy: \",entropy)"
   ]
  },
  {
   "cell_type": "code",
   "execution_count": 5,
   "id": "265c510c",
   "metadata": {},
   "outputs": [
    {
     "name": "stdout",
     "output_type": "stream",
     "text": [
      "Gini Impurity:  0.49382716049382713\n"
     ]
    }
   ],
   "source": [
    "# gini impurity\n",
    "# Gini impurity is a measure of misclassification\n",
    "gini = 1 - p_A**2 - p_B**2\n",
    "print(\"Gini Impurity: \",gini)"
   ]
  },
  {
   "cell_type": "code",
   "execution_count": 6,
   "id": "30263d3d",
   "metadata": {},
   "outputs": [
    {
     "name": "stdout",
     "output_type": "stream",
     "text": [
      "information gain:  -0.23231917936298252\n"
     ]
    }
   ],
   "source": [
    "# infromation Gain\n",
    "# Assuming a split on some feature divides the dataset into two subsets \n",
    "# subset 1: 2 elements of A, 3 of B\n",
    "# subset 2: 2 elements of A, 3 of B\n",
    "# Entroppy and size for each susets\n",
    "\n",
    "n_1_A, n_1_B = 2 ,3\n",
    "n_2_A, n_2_B = 2,3\n",
    "\n",
    "p_1_A = n_1_A /(n_1_A+n_1_B)\n",
    "p_1_B = n_1_B/(n_1_A+n_1_B)\n",
    "entropy_1 = -p_1_A* math.log2(p_1_A)-p_1_B*math.log2(p_1_B) if p_1_A and p_1_B else 0\n",
    "\n",
    "p_2_A = n_2_A /(n_2_A+n_2_B)\n",
    "p_2_B = n_2_B/(n_2_A+n_2_B)\n",
    "entropy_2 = -p_2_A* math.log2(p_2_A)-p_2_B*math.log2(p_2_B) if p_2_A and p_2_B else 0\n",
    "\n",
    "# Calculating information gain\n",
    "info_gain = entropy -((n_1_A+n_1_B)/total*entropy_1 + (n_2_A+n_2_B)/total* entropy_2)\n",
    "print(\"information gain: \",info_gain)"
   ]
  }
 ],
 "metadata": {
  "kernelspec": {
   "display_name": "Python 3",
   "language": "python",
   "name": "python3"
  },
  "language_info": {
   "codemirror_mode": {
    "name": "ipython",
    "version": 3
   },
   "file_extension": ".py",
   "mimetype": "text/x-python",
   "name": "python",
   "nbconvert_exporter": "python",
   "pygments_lexer": "ipython3",
   "version": "3.13.3"
  }
 },
 "nbformat": 4,
 "nbformat_minor": 5
}
