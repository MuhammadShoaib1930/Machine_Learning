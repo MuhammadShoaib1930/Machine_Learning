{
 "cells": [
  {
   "cell_type": "code",
   "execution_count": 77,
   "id": "695ba048",
   "metadata": {},
   "outputs": [
    {
     "name": "stdout",
     "output_type": "stream",
     "text": [
      "2 power is 3 8.0\n",
      "sin(90) 0.0\n",
      "sin(90) 1.0\n",
      "0.05485320506267893\n",
      "3.142857142857143\n",
      "Combinations p(n,r) 20\n",
      "Permutations p(n,r) 10\n"
     ]
    }
   ],
   "source": [
    "import math\n",
    "print(\"2 power is 3\",math.pow(2, 3))\n",
    "print(\"sin(90)\",math.sin(math.radians(0)))\n",
    "print(\"sin(90)\",math.cos(math.radians(0)))\n",
    "print(math.radians(22/7))\n",
    "print(22/7)\n",
    "print(\"Combinations p(n,r)\",math.perm(5,2))\n",
    "print(\"Permutations p(n,r)\",math.comb(5,2))"
   ]
  },
  {
   "cell_type": "code",
   "execution_count": null,
   "id": "7f846747",
   "metadata": {},
   "outputs": [
    {
     "name": "stdout",
     "output_type": "stream",
     "text": [
      "avarage  5\n",
      "midel value 5\n",
      "freqant value 1\n",
      "2.7386127875258306\n",
      "Range:  8\n",
      "7.5\n"
     ]
    }
   ],
   "source": [
    "import statistics as statis\n",
    "v1 = [1,2,3,4,9,5,8,7,6]\n",
    "v2 =[10, 30, 40, 20, 20]\n",
    "print(\"avarage \" ,statis.mean(v1))\n",
    "print(\"midel value\", statis.median(v1))\n",
    "print(\"freqant value\" , statis.mode(v1))\n",
    "print(statis.stdev(v1))\n",
    "print(\"Range: \",max(v1)-min(v1))\n",
    "print(\"Variance\",statis.variance(v1))"
   ]
  },
  {
   "cell_type": "code",
   "execution_count": 108,
   "id": "0ffa900b",
   "metadata": {},
   "outputs": [
    {
     "name": "stdout",
     "output_type": "stream",
     "text": [
      "[3]\n",
      "[8, 7, 4, 9, 2, 3, 1, 6, 5]\n"
     ]
    }
   ],
   "source": [
    "import random\n",
    "v1 = [1,2,3,4,9,5,8,7,6]\n",
    "v2 =[10, 30, 40, 20, 20]\n",
    "print(random.choices(v1))\n",
    "print(random.sample(v1,9))"
   ]
  }
 ],
 "metadata": {
  "kernelspec": {
   "display_name": "Python 3",
   "language": "python",
   "name": "python3"
  },
  "language_info": {
   "codemirror_mode": {
    "name": "ipython",
    "version": 3
   },
   "file_extension": ".py",
   "mimetype": "text/x-python",
   "name": "python",
   "nbconvert_exporter": "python",
   "pygments_lexer": "ipython3",
   "version": "3.13.3"
  }
 },
 "nbformat": 4,
 "nbformat_minor": 5
}
