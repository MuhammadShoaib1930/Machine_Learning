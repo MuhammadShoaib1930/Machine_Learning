{
 "cells": [
  {
   "cell_type": "code",
   "execution_count": 1,
   "id": "4783c7a7",
   "metadata": {},
   "outputs": [],
   "source": [
    "import pandas as pd\n",
    "import matplotlib.pylab as plt\n",
    "import seaborn as sns\n",
    "import numpy as np"
   ]
  },
  {
   "cell_type": "code",
   "execution_count": 2,
   "id": "423cece4",
   "metadata": {},
   "outputs": [
    {
     "data": {
      "text/plain": [
       "'2026 QS World University Rankings.csv'"
      ]
     },
     "execution_count": 2,
     "metadata": {},
     "output_type": "execute_result"
    }
   ],
   "source": [
    "import os\n",
    "\n",
    "folder_path = './datasets'  # 📁 Replace with your actual folder path\n",
    "\n",
    "# Get all file names ending with '.csv' and store in a list\n",
    "csv_files = [f for f in os.listdir(folder_path) if f.endswith('.csv')]\n",
    "csv_files[0]\n"
   ]
  },
  {
   "cell_type": "code",
   "execution_count": 3,
   "id": "90bdd20e",
   "metadata": {},
   "outputs": [
    {
     "name": "stdout",
     "output_type": "stream",
     "text": [
      "      TV  Radio  Newspaper  Sales\n",
      "0  230.1   37.8       69.2   22.1\n",
      "1   44.5   39.3       45.1   10.4\n"
     ]
    },
    {
     "data": {
      "image/png": "[encoded data removed]",
      "text/plain": [
       "<Figure size 640x480 with 1 Axes>"
      ]
     },
     "metadata": {},
     "output_type": "display_data"
    }
   ],
   "source": [
    "dataset = pd.read_csv(f\"./datasets/{csv_files[1]}\")\n",
    "sns.scatterplot(x=dataset['TV'],y=dataset['Sales'])\n",
    "print(dataset.head(2))"
   ]
  },
  {
   "cell_type": "code",
   "execution_count": 4,
   "id": "df8b6ff9",
   "metadata": {},
   "outputs": [
    {
     "name": "stdout",
     "output_type": "stream",
     "text": [
      "LinearRegression % = 93.26911013425052\n",
      "Lasso % = 93.21963546821814\n",
      "Ridge % = 93.26907017810228\n"
     ]
    }
   ],
   "source": [
    "input = dataset.iloc[:,:-1]\n",
    "output = dataset['Sales']\n",
    "from sklearn.model_selection import train_test_split\n",
    "x_tran,x_test,y_tran,y_test = train_test_split(input,output,test_size=0.25,random_state=43)\n",
    "from sklearn.linear_model import LinearRegression ,Lasso, Ridge \n",
    "lr = LinearRegression()\n",
    "lr.fit(x_tran,y_tran)\n",
    "y_lr_prd = lr.predict(x_test)\n",
    "print(f\"LinearRegression % = {lr.score(x_test,y_test)*100}\")\n",
    "lasso = Lasso(alpha=0.5)\n",
    "lasso.fit(x_tran,y_tran)\n",
    "y_lasso_prd = lasso.predict(x_test)\n",
    "\n",
    "print(f\"Lasso % = {lasso.score(x_test,y_test)*100}\")\n",
    "ridge = Ridge(alpha=0.5)\n",
    "ridge.fit(x_tran,y_tran)\n",
    "y_ridge_prd = lasso.predict(x_test)\n",
    "print(f\"Ridge % = {ridge.score(x_test,y_test)*100}\")\n"
   ]
  },
  {
   "cell_type": "code",
   "execution_count": 5,
   "id": "34bfe4bb",
   "metadata": {},
   "outputs": [
    {
     "data": {
      "text/plain": [
       "(1.0403683212881072,\n",
       " 1.9204362268836634,\n",
       " 1.3857980469331248,\n",
       " 0.9326911013425052,\n",
       " np.float64(15.054),\n",
       " np.float64(14.776843757306079))"
      ]
     },
     "execution_count": 5,
     "metadata": {},
     "output_type": "execute_result"
    }
   ],
   "source": [
    "from sklearn.metrics import mean_absolute_error , mean_squared_error , root_mean_squared_error , r2_score\n",
    "mae = mean_absolute_error(y_test,y_lr_prd)\n",
    "mse = mean_squared_error(y_test,y_lr_prd)\n",
    "rmse = root_mean_squared_error(y_test,y_lr_prd)\n",
    "r2 = r2_score(y_test,y_lr_prd)\n",
    "mae , mse , rmse , r2 , y_test.mean() , y_lr_prd.mean()"
   ]
  },
  {
   "cell_type": "markdown",
   "id": "41b98a13",
   "metadata": {},
   "source": [
    "Bynomal Logisitic regression"
   ]
  },
  {
   "cell_type": "code",
   "execution_count": 6,
   "id": "8eb9cf46",
   "metadata": {},
   "outputs": [
    {
     "name": "stderr",
     "output_type": "stream",
     "text": [
      "c:\\Python313\\Lib\\site-packages\\sklearn\\utils\\validation.py:2739: UserWarning: X does not have valid feature names, but LogisticRegression was fitted with feature names\n",
      "  warnings.warn(\n"
     ]
    },
    {
     "data": {
      "text/plain": [
       "(86.8421052631579, array([1], dtype=int32))"
      ]
     },
     "execution_count": 6,
     "metadata": {},
     "output_type": "execute_result"
    }
   ],
   "source": [
    "\n",
    "dataset = pd.read_csv(f\"./datasets/Iris.csv\")\n",
    "# print(dataset['Species'].unique())\n",
    "# print(dataset.head(1))\n",
    "dataset['Species'] = (dataset['Species']!='Iris-setosa').astype(np.int32)\n",
    "# sns.scatterplot(x=dataset['Species'],y=dataset['PetalLengthCm'])\n",
    "input = dataset.iloc[:,[1]]\n",
    "output = dataset['Species']\n",
    "from sklearn.model_selection import train_test_split#4 9\n",
    "x_tran,x_test,y_tran,y_test = train_test_split(input,output,test_size=0.25,random_state=200)\n",
    "from sklearn.linear_model import LogisticRegression\n",
    "lr = LogisticRegression()\n",
    "lr.fit(x_tran,y_tran)\n",
    "lr.score(x_test,y_test)*100 ,lr.predict([[1000]])"
   ]
  },
  {
   "cell_type": "markdown",
   "id": "ee2dcefb",
   "metadata": {},
   "source": [
    "MultiNomial Logisitic Regration"
   ]
  },
  {
   "cell_type": "code",
   "execution_count": 7,
   "id": "92323d71",
   "metadata": {},
   "outputs": [
    {
     "data": {
      "text/plain": [
       "100.0"
      ]
     },
     "execution_count": 7,
     "metadata": {},
     "output_type": "execute_result"
    }
   ],
   "source": [
    "dataset = pd.read_csv(f\"./datasets/Iris.csv\")\n",
    "# print(dataset['Species'].unique())\n",
    "# dataset.drop(columns='Id',inplace=True)\n",
    "mapValue = {'Iris-setosa':0,'Iris-versicolor':1, 'Iris-virginica':2}\n",
    "input = dataset.iloc[:,1:-1]\n",
    "dataset['Species'] = dataset['Species'].map(mapValue)\n",
    "# sns.scatterplot(dataset)\n",
    "from sklearn.model_selection import train_test_split\n",
    "x_tran,x_test,y_tran,y_test = train_test_split(input,output,test_size=0.25,random_state=42)\n",
    "from sklearn.linear_model import LogisticRegression\n",
    "lr = LogisticRegression()\n",
    "lr.fit(x_tran,y_tran)\n",
    "lr.score(x_test,y_test)*100"
   ]
  },
  {
   "cell_type": "markdown",
   "id": "7f2405ba",
   "metadata": {},
   "source": [
    "Polynomial Logisitic Regression"
   ]
  },
  {
   "cell_type": "code",
   "execution_count": 8,
   "id": "c0e5bb13",
   "metadata": {},
   "outputs": [
    {
     "name": "stdout",
     "output_type": "stream",
     "text": [
      "      Id  SepalLengthCm  SepalWidthCm  PetalLengthCm  PetalWidthCm  \\\n",
      "105  106            7.6           3.0            6.6           2.1   \n",
      "78    79            6.0           2.9            4.5           1.5   \n",
      "18    19            5.7           3.8            1.7           0.3   \n",
      "38    39            4.4           3.0            1.3           0.2   \n",
      "129  130            7.2           3.0            5.8           1.6   \n",
      "109  110            7.2           3.6            6.1           2.5   \n",
      "27    28            5.2           3.5            1.5           0.2   \n",
      "149  150            5.9           3.0            5.1           1.8   \n",
      "132  133            6.4           2.8            5.6           2.2   \n",
      "144  145            6.7           3.3            5.7           2.5   \n",
      "\n",
      "             Species  \n",
      "105   Iris-virginica  \n",
      "78   Iris-versicolor  \n",
      "18       Iris-setosa  \n",
      "38       Iris-setosa  \n",
      "129   Iris-virginica  \n",
      "109   Iris-virginica  \n",
      "27       Iris-setosa  \n",
      "149   Iris-virginica  \n",
      "132   Iris-virginica  \n",
      "144   Iris-virginica  \n"
     ]
    },
    {
     "data": {
      "text/plain": [
       "100.0"
      ]
     },
     "execution_count": 8,
     "metadata": {},
     "output_type": "execute_result"
    }
   ],
   "source": [
    "dataset = pd.read_csv(f\"./datasets/Iris.csv\")\n",
    "# print(dataset['Species'].unique())\n",
    "# dataset.drop(columns='Id',inplace=True)\n",
    "randomArray = np.random.randint(0,150,10)\n",
    "data_test = dataset.iloc[randomArray]\n",
    "print(data_test)\n",
    "mapValue = {'Iris-setosa':0,'Iris-versicolor':1, 'Iris-virginica':2}\n",
    "input = dataset.iloc[:,1:-1]\n",
    "from sklearn.preprocessing import PolynomialFeatures\n",
    "pf = PolynomialFeatures(degree=2)\n",
    "pf.fit(input)\n",
    "input = pd.DataFrame(pf.transform(input))\n",
    "dataset['Species'] = dataset['Species'].map(mapValue)\n",
    "# sns.scatterplot(dataset)\n",
    "from sklearn.model_selection import train_test_split\n",
    "x_tran,x_test,y_tran,y_test = train_test_split(input,output,test_size=0.25,random_state=42)\n",
    "from sklearn.linear_model import LogisticRegression\n",
    "lr = LogisticRegression()\n",
    "lr.fit(x_tran,y_tran)\n",
    "lr.score(x_test,y_test)*100"
   ]
  },
  {
   "cell_type": "markdown",
   "id": "6ec493ae",
   "metadata": {},
   "source": [
    "Multicalss Classification"
   ]
  },
  {
   "cell_type": "code",
   "execution_count": 9,
   "id": "c25e1470",
   "metadata": {},
   "outputs": [
    {
     "name": "stderr",
     "output_type": "stream",
     "text": [
      "c:\\Python313\\Lib\\site-packages\\sklearn\\linear_model\\_logistic.py:1256: FutureWarning: 'multi_class' was deprecated in version 1.5 and will be removed in 1.7. Use OneVsRestClassifier(LogisticRegression(..)) instead. Leave it to its default value to avoid this warning.\n",
      "  warnings.warn(\n"
     ]
    },
    {
     "data": {
      "text/plain": [
       "100.0"
      ]
     },
     "execution_count": 9,
     "metadata": {},
     "output_type": "execute_result"
    }
   ],
   "source": [
    "dataset = pd.read_csv(f\"./datasets/Iris.csv\")\n",
    "# print(dataset['Species'].unique())\n",
    "# dataset.drop(columns='Id',inplace=True)\n",
    "mapValue = {'Iris-setosa':0,'Iris-versicolor':1, 'Iris-virginica':2}\n",
    "input = dataset.iloc[:,1:-1]\n",
    "dataset['Species'] = dataset['Species'].map(mapValue)\n",
    "# sns.scatterplot(dataset)\n",
    "from sklearn.model_selection import train_test_split\n",
    "x_tran,x_test,y_tran,y_test = train_test_split(input,output,test_size=0.25,random_state=42)\n",
    "from sklearn.linear_model import LogisticRegression\n",
    "lr = LogisticRegression(multi_class='ovr')\n",
    "lr.fit(x_tran,y_tran)\n",
    "lr.score(x_test,y_test)*100"
   ]
  },
  {
   "cell_type": "code",
   "execution_count": 10,
   "id": "18081c17",
   "metadata": {},
   "outputs": [
    {
     "name": "stderr",
     "output_type": "stream",
     "text": [
      "c:\\Python313\\Lib\\site-packages\\sklearn\\linear_model\\_logistic.py:1237: FutureWarning: 'multi_class' was deprecated in version 1.5 and will be removed in 1.7. From then on, binary problems will be fit as proper binary  logistic regression models (as if multi_class='ovr' were set). Leave it to its default value to avoid this warning.\n",
      "  warnings.warn(\n"
     ]
    },
    {
     "data": {
      "text/plain": [
       "100.0"
      ]
     },
     "execution_count": 10,
     "metadata": {},
     "output_type": "execute_result"
    }
   ],
   "source": [
    "dataset = pd.read_csv(f\"./datasets/Iris.csv\")\n",
    "# print(dataset['Species'].unique())\n",
    "# dataset.drop(columns='Id',inplace=True)\n",
    "mapValue = {'Iris-setosa':0,'Iris-versicolor':1, 'Iris-virginica':2}\n",
    "input = dataset.iloc[:,1:-1]\n",
    "dataset['Species'] = dataset['Species'].map(mapValue)\n",
    "# sns.scatterplot(dataset)\n",
    "from sklearn.model_selection import train_test_split\n",
    "x_tran,x_test,y_tran,y_test = train_test_split(input,output,test_size=0.25,random_state=42)\n",
    "from sklearn.linear_model import LogisticRegression\n",
    "lr = LogisticRegression(multi_class='multinomial')\n",
    "lr.fit(x_tran,y_tran)\n",
    "lr.score(x_test,y_test)*100"
   ]
  },
  {
   "cell_type": "markdown",
   "id": "2e890da2",
   "metadata": {},
   "source": [
    "Confusion Matrix or Error Matrix , Precision , Recall, R1-score"
   ]
  },
  {
   "cell_type": "code",
   "execution_count": 11,
   "id": "fb28e5f7",
   "metadata": {},
   "outputs": [
    {
     "ename": "KeyError",
     "evalue": "'price_range'",
     "output_type": "error",
     "traceback": [
      "\u001b[31m---------------------------------------------------------------------------\u001b[39m",
      "\u001b[31mKeyError\u001b[39m                                  Traceback (most recent call last)",
      "\u001b[36mFile \u001b[39m\u001b[32m~\\AppData\\Roaming\\Python\\Python313\\site-packages\\pandas\\core\\indexes\\base.py:3812\u001b[39m, in \u001b[36mIndex.get_loc\u001b[39m\u001b[34m(self, key)\u001b[39m\n\u001b[32m   3811\u001b[39m \u001b[38;5;28;01mtry\u001b[39;00m:\n\u001b[32m-> \u001b[39m\u001b[32m3812\u001b[39m     \u001b[38;5;28;01mreturn\u001b[39;00m \u001b[38;5;28;43mself\u001b[39;49m\u001b[43m.\u001b[49m\u001b[43m_engine\u001b[49m\u001b[43m.\u001b[49m\u001b[43mget_loc\u001b[49m\u001b[43m(\u001b[49m\u001b[43mcasted_key\u001b[49m\u001b[43m)\u001b[49m\n\u001b[32m   3813\u001b[39m \u001b[38;5;28;01mexcept\u001b[39;00m \u001b[38;5;167;01mKeyError\u001b[39;00m \u001b[38;5;28;01mas\u001b[39;00m err:\n",
      "\u001b[36mFile \u001b[39m\u001b[32mpandas/_libs/index.pyx:167\u001b[39m, in \u001b[36mpandas._libs.index.IndexEngine.get_loc\u001b[39m\u001b[34m()\u001b[39m\n",
      "\u001b[36mFile \u001b[39m\u001b[32mpandas/_libs/index.pyx:196\u001b[39m, in \u001b[36mpandas._libs.index.IndexEngine.get_loc\u001b[39m\u001b[34m()\u001b[39m\n",
      "\u001b[36mFile \u001b[39m\u001b[32mpandas/_libs/hashtable_class_helper.pxi:7088\u001b[39m, in \u001b[36mpandas._libs.hashtable.PyObjectHashTable.get_item\u001b[39m\u001b[34m()\u001b[39m\n",
      "\u001b[36mFile \u001b[39m\u001b[32mpandas/_libs/hashtable_class_helper.pxi:7096\u001b[39m, in \u001b[36mpandas._libs.hashtable.PyObjectHashTable.get_item\u001b[39m\u001b[34m()\u001b[39m\n",
      "\u001b[31mKeyError\u001b[39m: 'price_range'",
      "\nThe above exception was the direct cause of the following exception:\n",
      "\u001b[31mKeyError\u001b[39m                                  Traceback (most recent call last)",
      "\u001b[36mCell\u001b[39m\u001b[36m \u001b[39m\u001b[32mIn[11]\u001b[39m\u001b[32m, line 4\u001b[39m\n\u001b[32m      2\u001b[39m dataset.head(\u001b[32m3\u001b[39m)\n\u001b[32m      3\u001b[39m \u001b[38;5;28minput\u001b[39m = dataset.iloc[:,:-\u001b[32m1\u001b[39m]\n\u001b[32m----> \u001b[39m\u001b[32m4\u001b[39m dataset[\u001b[33m'\u001b[39m\u001b[33mprice_range\u001b[39m\u001b[33m'\u001b[39m] = (\u001b[43mdataset\u001b[49m\u001b[43m[\u001b[49m\u001b[33;43m'\u001b[39;49m\u001b[33;43mprice_range\u001b[39;49m\u001b[33;43m'\u001b[39;49m\u001b[43m]\u001b[49m>=\u001b[32m2\u001b[39m).astype(np.int64)\n\u001b[32m      5\u001b[39m output = dataset[\u001b[33m'\u001b[39m\u001b[33mprice_range\u001b[39m\u001b[33m'\u001b[39m]\n\u001b[32m      6\u001b[39m \u001b[38;5;28;01mfrom\u001b[39;00m\u001b[38;5;250m \u001b[39m\u001b[34;01msklearn\u001b[39;00m\u001b[34;01m.\u001b[39;00m\u001b[34;01mmodel_selection\u001b[39;00m\u001b[38;5;250m \u001b[39m\u001b[38;5;28;01mimport\u001b[39;00m train_test_split\n",
      "\u001b[36mFile \u001b[39m\u001b[32m~\\AppData\\Roaming\\Python\\Python313\\site-packages\\pandas\\core\\frame.py:4107\u001b[39m, in \u001b[36mDataFrame.__getitem__\u001b[39m\u001b[34m(self, key)\u001b[39m\n\u001b[32m   4105\u001b[39m \u001b[38;5;28;01mif\u001b[39;00m \u001b[38;5;28mself\u001b[39m.columns.nlevels > \u001b[32m1\u001b[39m:\n\u001b[32m   4106\u001b[39m     \u001b[38;5;28;01mreturn\u001b[39;00m \u001b[38;5;28mself\u001b[39m._getitem_multilevel(key)\n\u001b[32m-> \u001b[39m\u001b[32m4107\u001b[39m indexer = \u001b[38;5;28;43mself\u001b[39;49m\u001b[43m.\u001b[49m\u001b[43mcolumns\u001b[49m\u001b[43m.\u001b[49m\u001b[43mget_loc\u001b[49m\u001b[43m(\u001b[49m\u001b[43mkey\u001b[49m\u001b[43m)\u001b[49m\n\u001b[32m   4108\u001b[39m \u001b[38;5;28;01mif\u001b[39;00m is_integer(indexer):\n\u001b[32m   4109\u001b[39m     indexer = [indexer]\n",
      "\u001b[36mFile \u001b[39m\u001b[32m~\\AppData\\Roaming\\Python\\Python313\\site-packages\\pandas\\core\\indexes\\base.py:3819\u001b[39m, in \u001b[36mIndex.get_loc\u001b[39m\u001b[34m(self, key)\u001b[39m\n\u001b[32m   3814\u001b[39m     \u001b[38;5;28;01mif\u001b[39;00m \u001b[38;5;28misinstance\u001b[39m(casted_key, \u001b[38;5;28mslice\u001b[39m) \u001b[38;5;129;01mor\u001b[39;00m (\n\u001b[32m   3815\u001b[39m         \u001b[38;5;28misinstance\u001b[39m(casted_key, abc.Iterable)\n\u001b[32m   3816\u001b[39m         \u001b[38;5;129;01mand\u001b[39;00m \u001b[38;5;28many\u001b[39m(\u001b[38;5;28misinstance\u001b[39m(x, \u001b[38;5;28mslice\u001b[39m) \u001b[38;5;28;01mfor\u001b[39;00m x \u001b[38;5;129;01min\u001b[39;00m casted_key)\n\u001b[32m   3817\u001b[39m     ):\n\u001b[32m   3818\u001b[39m         \u001b[38;5;28;01mraise\u001b[39;00m InvalidIndexError(key)\n\u001b[32m-> \u001b[39m\u001b[32m3819\u001b[39m     \u001b[38;5;28;01mraise\u001b[39;00m \u001b[38;5;167;01mKeyError\u001b[39;00m(key) \u001b[38;5;28;01mfrom\u001b[39;00m\u001b[38;5;250m \u001b[39m\u001b[34;01merr\u001b[39;00m\n\u001b[32m   3820\u001b[39m \u001b[38;5;28;01mexcept\u001b[39;00m \u001b[38;5;167;01mTypeError\u001b[39;00m:\n\u001b[32m   3821\u001b[39m     \u001b[38;5;66;03m# If we have a listlike key, _check_indexing_error will raise\u001b[39;00m\n\u001b[32m   3822\u001b[39m     \u001b[38;5;66;03m#  InvalidIndexError. Otherwise we fall through and re-raise\u001b[39;00m\n\u001b[32m   3823\u001b[39m     \u001b[38;5;66;03m#  the TypeError.\u001b[39;00m\n\u001b[32m   3824\u001b[39m     \u001b[38;5;28mself\u001b[39m._check_indexing_error(key)\n",
      "\u001b[31mKeyError\u001b[39m: 'price_range'"
     ]
    }
   ],
   "source": [
    "dataset = pd.read_csv(f'datasets/{csv_files[12]}')\n",
    "dataset.head(3)\n",
    "input = dataset.iloc[:,:-1]\n",
    "dataset['price_range'] = (dataset['price_range']>=2).astype(np.int64)\n",
    "output = dataset['price_range']\n",
    "from sklearn.model_selection import train_test_split\n",
    "x_tran,x_test,y_tran,y_test = train_test_split(input,output,test_size=0.25,random_state=42)\n",
    "from sklearn.linear_model import LogisticRegression\n",
    "lr = LogisticRegression()\n",
    "lr.fit(x_tran,y_tran)\n",
    "lr_score = lr.score(x_test,y_test)*100\n",
    "from sklearn.metrics import confusion_matrix , accuracy_score  , precision_score , recall_score , f1_score\n",
    "y_pred = lr.predict(x_test)\n",
    "cm = confusion_matrix(y_test,y_pred)\n",
    "tn , fp , fn , tp = cm.ravel()\n",
    "ac = accuracy_score(y_test,y_pred)*100\n",
    "er = ((fn+fp)/(tp+fp+fn+tp))*100\n",
    "ps = precision_score(y_test,y_pred)*100\n",
    "rc = recall_score(y_test,y_pred)*100\n",
    "f1s = f1_score(y_test,y_pred)*100\n",
    "print(f\"accuracy_score = {ac} , error = {er} , precision_score = {ps} , recall_score = {rc} , f1_score = {f1s} , tn = {tn} ,tp = {tp} , fp = {fp} , fn = {fn} , Logisitc Regrestion Score = {lr_score}\")\n",
    "sns.heatmap(cm,annot=True)"
   ]
  },
  {
   "cell_type": "markdown",
   "id": "99d5d7a8",
   "metadata": {},
   "source": [
    "ImBalance Dataset\n",
    "  Random under sampling \n",
    "  Random over sampling \n",
    "using imblearn"
   ]
  },
  {
   "cell_type": "code",
   "execution_count": null,
   "id": "d914a4af",
   "metadata": {},
   "outputs": [
    {
     "name": "stdout",
     "output_type": "stream",
     "text": [
      "Orignal data -----> 1's = 1500, 0's = 500\n",
      "Created Data RUS -----> 1's = 500 , 0's = 500\n",
      "Created Data ROS -----> 1's = 1500 , 0's = 1500\n"
     ]
    }
   ],
   "source": [
    "dataset = pd.read_csv(f'datasets/{csv_files[12]}')\n",
    "dataset.head(3)\n",
    "input = dataset.iloc[:,:-1]\n",
    "dataset['price_range'] = (dataset['price_range']>0).astype(np.int64)\n",
    "output = dataset.iloc[:,-1]\n",
    "from imblearn.under_sampling import RandomUnderSampler\n",
    "rus = RandomUnderSampler()\n",
    "x_data1 , y_data1 = rus.fit_resample(input,output)\n",
    "print(f\"Orignal data -----> 1's = {np.sum(output == 1)}, 0's = {np.sum(output == 0)}\")\n",
    "print(f\"Created Data RUS -----> 1's = {np.sum(y_data1==1)} , 0's = {np.sum(y_data1==0)}\")\n",
    "\n",
    "from imblearn.over_sampling import RandomOverSampler\n",
    "ros = RandomOverSampler()\n",
    "x_data2 , y_data2 = ros.fit_resample(input,output)\n",
    "print(f\"Created Data ROS -----> 1's = {np.sum(y_data2==1)} , 0's = {np.sum(y_data2==0)}\")"
   ]
  },
  {
   "cell_type": "markdown",
   "id": "a9a6e337",
   "metadata": {},
   "source": [
    "simple example own douplicat-created data"
   ]
  },
  {
   "cell_type": "code",
   "execution_count": null,
   "id": "ebad92d5",
   "metadata": {},
   "outputs": [
    {
     "name": "stdout",
     "output_type": "stream",
     "text": [
      "Orignal data -----> 1's = 20, 0's = 80\n",
      "Created Data RUS -----> 1's = 20 , 0's = 20\n",
      "Created Data ROS -----> 1's = 80 , 0's = 80\n",
      "500 100\n",
      "200 40\n",
      "800 160\n"
     ]
    }
   ],
   "source": [
    "d1 = np.random.randint(0,1,80)\n",
    "d2 = np.random.randint(1,2,20)\n",
    "input = np.linspace(0,10000,500).reshape(100,-1)\n",
    "output = np.concatenate((d1,d2))\n",
    "input , output\n",
    "from imblearn.under_sampling import RandomUnderSampler\n",
    "rus = RandomUnderSampler()\n",
    "x_data1 , y_data1 = rus.fit_resample(input,output)\n",
    "print(f\"Orignal data -----> 1's = {np.sum(output == 1)}, 0's = {np.sum(output == 0)}\")\n",
    "print(f\"Created Data RUS -----> 1's = {np.sum(y_data1==1)} , 0's = {np.sum(y_data1==0)}\")\n",
    "\n",
    "from imblearn.over_sampling import RandomOverSampler\n",
    "ros = RandomOverSampler()\n",
    "x_data2 , y_data2 = ros.fit_resample(input,output)\n",
    "print(f\"Created Data ROS -----> 1's = {np.sum(y_data2==1)} , 0's = {np.sum(y_data2==0)}\")\n",
    "print(input.size , output.size)\n",
    "print(x_data1.size , y_data1.size)\n",
    "print(x_data2.size , y_data2.size)"
   ]
  },
  {
   "cell_type": "markdown",
   "id": "97a23e56",
   "metadata": {},
   "source": [
    "Naive bayes types,\n",
    "    Gaussion, Multinomial , Bernoulli "
   ]
  },
  {
   "cell_type": "code",
   "execution_count": 82,
   "id": "1cb69727",
   "metadata": {},
   "outputs": [
    {
     "name": "stdout",
     "output_type": "stream",
     "text": [
      "Gaussian navie Bayes = 84.21052631578947\n",
      "Multinomial navie Bayes 83.08\n",
      "Bernoulli navie Bayes 83.56\n"
     ]
    }
   ],
   "source": [
    "dataset = pd.read_csv('datasets/Iris.csv')\n",
    "dataset['Species'] = dataset['Species'].map(mapValue).astype(np.int64)\n",
    "input = dataset.iloc[:,1:3]\n",
    "output = dataset['Species']\n",
    "# sns.kdeplot(input)\n",
    "# dataset\n",
    "\n",
    "from sklearn.model_selection import train_test_split\n",
    "x_tran,x_test,y_tran,y_test = train_test_split(input,output,test_size=0.25,random_state=42)\n",
    "from sklearn.naive_bayes import GaussianNB , MultinomialNB , BernoulliNB\n",
    "gnb = GaussianNB()\n",
    "gnb.fit(x_tran,y_tran)\n",
    "print(f\"Gaussian navie Bayes = {gnb.score(x_test,y_test)*100}\")\n",
    "\n",
    "dataset = pd.read_csv(f'datasets/{csv_files[4]}')\n",
    "mapYesNo = {'No':0,'Yes':1}\n",
    "dataset['Internship_Experience'] = dataset['Internship_Experience'].map(mapYesNo).astype(np.int64)\n",
    "dataset['Placement'] = dataset['Placement'].map(mapYesNo).astype(np.int64)\n",
    "d1 = dataset.drop(columns=['College_ID','Prev_Sem_Result','CGPA'])\n",
    "input = d1.iloc[:,:-1]\n",
    "output = d1['Placement']\n",
    "x_tran,x_test,y_tran,y_test = train_test_split(input,output,test_size=0.25,random_state=4)\n",
    "mnb = MultinomialNB()\n",
    "mnb.fit(x_tran,y_tran)\n",
    "print(f\"Multinomial navie Bayes {mnb.score(x_test,y_test)*100}\")\n",
    "\n",
    "bnb = BernoulliNB()\n",
    "bnb.fit(x_tran,y_tran)\n",
    "print(f\"Bernoulli navie Bayes {bnb.score(x_test,y_test)*100}\")"
   ]
  },
  {
   "cell_type": "markdown",
   "id": "69fff7ac",
   "metadata": {},
   "source": []
  }
 ],
 "metadata": {
  "kernelspec": {
   "display_name": "Python 3",
   "language": "python",
   "name": "python3"
  },
  "language_info": {
   "codemirror_mode": {
    "name": "ipython",
    "version": 3
   },
   "file_extension": ".py",
   "mimetype": "text/x-python",
   "name": "python",
   "nbconvert_exporter": "python",
   "pygments_lexer": "ipython3",
   "version": "3.13.3"
  }
 },
 "nbformat": 4,
 "nbformat_minor": 5
}
